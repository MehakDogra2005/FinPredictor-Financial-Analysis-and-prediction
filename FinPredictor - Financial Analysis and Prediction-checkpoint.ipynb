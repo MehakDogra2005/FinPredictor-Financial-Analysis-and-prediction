{
 "cells": [
  {
   "cell_type": "code",
   "execution_count": 2,
   "id": "75ee63a6",
   "metadata": {},
   "outputs": [],
   "source": [
    "import numpy as np\n",
    "import pandas as pd\n",
    "import matplotlib.pyplot as plt\n",
    "import seaborn as sns\n",
    "from sklearn.preprocessing import StandardScaler\n",
    "from sklearn.model_selection import train_test_split,GridSearchCV\n",
    "from sklearn.svm import SVC\n",
    "from sklearn.metrics import accuracy_score, classification_report\n",
    "from imblearn.over_sampling import SMOTE"
   ]
  },
  {
   "cell_type": "code",
   "execution_count": 3,
   "id": "b6c88552-81b9-40ec-9593-9cf03f3b173c",
   "metadata": {},
   "outputs": [],
   "source": [
    "data = pd.read_excel(r\"D:\\Financial analysis and prediction model\\factor model dataset.xlsx\")"
   ]
  },
  {
   "cell_type": "code",
   "execution_count": 4,
   "id": "453758af-fdb3-4eb9-9948-d907ea5b923b",
   "metadata": {},
   "outputs": [],
   "source": [
    "df= pd.DataFrame(data)"
   ]
  },
  {
   "cell_type": "code",
   "execution_count": 5,
   "id": "a1b4e4d5-c962-4684-ba19-3c2aa307793a",
   "metadata": {},
   "outputs": [
    {
     "data": {
      "text/html": [
       "<div>\n",
       "<style scoped>\n",
       "    .dataframe tbody tr th:only-of-type {\n",
       "        vertical-align: middle;\n",
       "    }\n",
       "\n",
       "    .dataframe tbody tr th {\n",
       "        vertical-align: top;\n",
       "    }\n",
       "\n",
       "    .dataframe thead th {\n",
       "        text-align: right;\n",
       "    }\n",
       "</style>\n",
       "<table border=\"1\" class=\"dataframe\">\n",
       "  <thead>\n",
       "    <tr style=\"text-align: right;\">\n",
       "      <th></th>\n",
       "      <th>Ticker</th>\n",
       "      <th>PE</th>\n",
       "      <th>P/B</th>\n",
       "      <th>ROE LF</th>\n",
       "      <th>ROIC LF</th>\n",
       "      <th>LTM Sales Growth (BLOOMBERG L.P.)</th>\n",
       "      <th>EBITDA 1Yr Growth LF</th>\n",
       "      <th>Sales 5Yr CAGR (BLOOMBERG L.P.)</th>\n",
       "      <th>1/0</th>\n",
       "    </tr>\n",
       "  </thead>\n",
       "  <tbody>\n",
       "    <tr>\n",
       "      <th>0</th>\n",
       "      <td>GOCA IN Equity</td>\n",
       "      <td>85.961166</td>\n",
       "      <td>10.801176</td>\n",
       "      <td>12.587328</td>\n",
       "      <td>3.007624</td>\n",
       "      <td>-7.775877</td>\n",
       "      <td>-4.650929</td>\n",
       "      <td>1.672671</td>\n",
       "      <td>1</td>\n",
       "    </tr>\n",
       "    <tr>\n",
       "      <th>1</th>\n",
       "      <td>HSCH IN Equity</td>\n",
       "      <td>77.550506</td>\n",
       "      <td>6.846167</td>\n",
       "      <td>8.673067</td>\n",
       "      <td>8.441944</td>\n",
       "      <td>13.083882</td>\n",
       "      <td>65.137894</td>\n",
       "      <td>13.908138</td>\n",
       "      <td>1</td>\n",
       "    </tr>\n",
       "    <tr>\n",
       "      <th>2</th>\n",
       "      <td>TMC IN Equity</td>\n",
       "      <td>31.371552</td>\n",
       "      <td>7.350074</td>\n",
       "      <td>27.414576</td>\n",
       "      <td>22.092188</td>\n",
       "      <td>10.191632</td>\n",
       "      <td>61.494133</td>\n",
       "      <td>6.170201</td>\n",
       "      <td>1</td>\n",
       "    </tr>\n",
       "    <tr>\n",
       "      <th>3</th>\n",
       "      <td>GRIL IN Equity</td>\n",
       "      <td>200.858725</td>\n",
       "      <td>8.288601</td>\n",
       "      <td>3.865545</td>\n",
       "      <td>0.398358</td>\n",
       "      <td>-4.019076</td>\n",
       "      <td>-63.102592</td>\n",
       "      <td>0.328333</td>\n",
       "      <td>1</td>\n",
       "    </tr>\n",
       "    <tr>\n",
       "      <th>4</th>\n",
       "      <td>WH IN Equity</td>\n",
       "      <td>31.617164</td>\n",
       "      <td>7.388241</td>\n",
       "      <td>26.261683</td>\n",
       "      <td>13.675078</td>\n",
       "      <td>21.075392</td>\n",
       "      <td>101.956512</td>\n",
       "      <td>24.471958</td>\n",
       "      <td>1</td>\n",
       "    </tr>\n",
       "  </tbody>\n",
       "</table>\n",
       "</div>"
      ],
      "text/plain": [
       "           Ticker          PE        P/B     ROE LF    ROIC LF  \\\n",
       "0  GOCA IN Equity   85.961166  10.801176  12.587328   3.007624   \n",
       "1  HSCH IN Equity   77.550506   6.846167   8.673067   8.441944   \n",
       "2   TMC IN Equity   31.371552   7.350074  27.414576  22.092188   \n",
       "3  GRIL IN Equity  200.858725   8.288601   3.865545   0.398358   \n",
       "4    WH IN Equity   31.617164   7.388241  26.261683  13.675078   \n",
       "\n",
       "   LTM Sales Growth (BLOOMBERG L.P.)  EBITDA 1Yr Growth LF  \\\n",
       "0                          -7.775877             -4.650929   \n",
       "1                          13.083882             65.137894   \n",
       "2                          10.191632             61.494133   \n",
       "3                          -4.019076            -63.102592   \n",
       "4                          21.075392            101.956512   \n",
       "\n",
       "   Sales 5Yr CAGR (BLOOMBERG L.P.)  1/0  \n",
       "0                         1.672671    1  \n",
       "1                        13.908138    1  \n",
       "2                         6.170201    1  \n",
       "3                         0.328333    1  \n",
       "4                        24.471958    1  "
      ]
     },
     "execution_count": 5,
     "metadata": {},
     "output_type": "execute_result"
    }
   ],
   "source": [
    "df.head()"
   ]
  },
  {
   "cell_type": "code",
   "execution_count": 6,
   "id": "6cd6cf54-35f5-41b5-bdd5-797287730883",
   "metadata": {},
   "outputs": [
    {
     "data": {
      "text/plain": [
       "(687, 9)"
      ]
     },
     "execution_count": 6,
     "metadata": {},
     "output_type": "execute_result"
    }
   ],
   "source": [
    "df.shape"
   ]
  },
  {
   "cell_type": "code",
   "execution_count": 7,
   "id": "6f4ceee5-3b32-4e47-9be3-8a84118152a7",
   "metadata": {},
   "outputs": [
    {
     "name": "stdout",
     "output_type": "stream",
     "text": [
      "Index(['Ticker', 'PE', 'P/B', 'ROE LF', 'ROIC LF',\n",
      "       'LTM Sales Growth (BLOOMBERG L.P.)', 'EBITDA 1Yr Growth LF',\n",
      "       'Sales 5Yr CAGR (BLOOMBERG L.P.)', '1/0'],\n",
      "      dtype='object')\n"
     ]
    }
   ],
   "source": [
    "print(df.columns)"
   ]
  },
  {
   "cell_type": "code",
   "execution_count": 8,
   "id": "f8bd9897-d63a-4a8a-8941-56798cdc01cf",
   "metadata": {},
   "outputs": [
    {
     "name": "stdout",
     "output_type": "stream",
     "text": [
      "<class 'pandas.core.frame.DataFrame'>\n",
      "RangeIndex: 687 entries, 0 to 686\n",
      "Data columns (total 9 columns):\n",
      " #   Column                             Non-Null Count  Dtype  \n",
      "---  ------                             --------------  -----  \n",
      " 0   Ticker                             687 non-null    object \n",
      " 1   PE                                 687 non-null    float64\n",
      " 2   P/B                                687 non-null    float64\n",
      " 3   ROE LF                             687 non-null    float64\n",
      " 4   ROIC LF                            687 non-null    float64\n",
      " 5   LTM Sales Growth (BLOOMBERG L.P.)  687 non-null    float64\n",
      " 6   EBITDA 1Yr Growth LF               687 non-null    float64\n",
      " 7   Sales 5Yr CAGR (BLOOMBERG L.P.)    687 non-null    float64\n",
      " 8   1/0                                687 non-null    int64  \n",
      "dtypes: float64(7), int64(1), object(1)\n",
      "memory usage: 48.4+ KB\n"
     ]
    }
   ],
   "source": [
    "df.info()"
   ]
  },
  {
   "cell_type": "code",
   "execution_count": 9,
   "id": "69854924-5f6e-46e5-8364-fb37e2134e4e",
   "metadata": {},
   "outputs": [],
   "source": [
    "#No missing values"
   ]
  },
  {
   "cell_type": "code",
   "execution_count": 10,
   "id": "e1e39eb4-a245-4a05-9645-259a8818d665",
   "metadata": {},
   "outputs": [
    {
     "data": {
      "text/html": [
       "<div>\n",
       "<style scoped>\n",
       "    .dataframe tbody tr th:only-of-type {\n",
       "        vertical-align: middle;\n",
       "    }\n",
       "\n",
       "    .dataframe tbody tr th {\n",
       "        vertical-align: top;\n",
       "    }\n",
       "\n",
       "    .dataframe thead th {\n",
       "        text-align: right;\n",
       "    }\n",
       "</style>\n",
       "<table border=\"1\" class=\"dataframe\">\n",
       "  <thead>\n",
       "    <tr style=\"text-align: right;\">\n",
       "      <th></th>\n",
       "      <th>Ticker</th>\n",
       "      <th>PE</th>\n",
       "      <th>P/B</th>\n",
       "      <th>ROE LF</th>\n",
       "      <th>ROIC LF</th>\n",
       "      <th>LTM Sales Growth (BLOOMBERG L.P.)</th>\n",
       "      <th>EBITDA 1Yr Growth LF</th>\n",
       "      <th>Sales 5Yr CAGR (BLOOMBERG L.P.)</th>\n",
       "      <th>1/0</th>\n",
       "    </tr>\n",
       "  </thead>\n",
       "  <tbody>\n",
       "    <tr>\n",
       "      <th>0</th>\n",
       "      <td>False</td>\n",
       "      <td>False</td>\n",
       "      <td>False</td>\n",
       "      <td>False</td>\n",
       "      <td>False</td>\n",
       "      <td>False</td>\n",
       "      <td>False</td>\n",
       "      <td>False</td>\n",
       "      <td>False</td>\n",
       "    </tr>\n",
       "    <tr>\n",
       "      <th>1</th>\n",
       "      <td>False</td>\n",
       "      <td>False</td>\n",
       "      <td>False</td>\n",
       "      <td>False</td>\n",
       "      <td>False</td>\n",
       "      <td>False</td>\n",
       "      <td>False</td>\n",
       "      <td>False</td>\n",
       "      <td>False</td>\n",
       "    </tr>\n",
       "    <tr>\n",
       "      <th>2</th>\n",
       "      <td>False</td>\n",
       "      <td>False</td>\n",
       "      <td>False</td>\n",
       "      <td>False</td>\n",
       "      <td>False</td>\n",
       "      <td>False</td>\n",
       "      <td>False</td>\n",
       "      <td>False</td>\n",
       "      <td>False</td>\n",
       "    </tr>\n",
       "    <tr>\n",
       "      <th>3</th>\n",
       "      <td>False</td>\n",
       "      <td>False</td>\n",
       "      <td>False</td>\n",
       "      <td>False</td>\n",
       "      <td>False</td>\n",
       "      <td>False</td>\n",
       "      <td>False</td>\n",
       "      <td>False</td>\n",
       "      <td>False</td>\n",
       "    </tr>\n",
       "    <tr>\n",
       "      <th>4</th>\n",
       "      <td>False</td>\n",
       "      <td>False</td>\n",
       "      <td>False</td>\n",
       "      <td>False</td>\n",
       "      <td>False</td>\n",
       "      <td>False</td>\n",
       "      <td>False</td>\n",
       "      <td>False</td>\n",
       "      <td>False</td>\n",
       "    </tr>\n",
       "    <tr>\n",
       "      <th>...</th>\n",
       "      <td>...</td>\n",
       "      <td>...</td>\n",
       "      <td>...</td>\n",
       "      <td>...</td>\n",
       "      <td>...</td>\n",
       "      <td>...</td>\n",
       "      <td>...</td>\n",
       "      <td>...</td>\n",
       "      <td>...</td>\n",
       "    </tr>\n",
       "    <tr>\n",
       "      <th>682</th>\n",
       "      <td>False</td>\n",
       "      <td>False</td>\n",
       "      <td>False</td>\n",
       "      <td>False</td>\n",
       "      <td>False</td>\n",
       "      <td>False</td>\n",
       "      <td>False</td>\n",
       "      <td>False</td>\n",
       "      <td>False</td>\n",
       "    </tr>\n",
       "    <tr>\n",
       "      <th>683</th>\n",
       "      <td>False</td>\n",
       "      <td>False</td>\n",
       "      <td>False</td>\n",
       "      <td>False</td>\n",
       "      <td>False</td>\n",
       "      <td>False</td>\n",
       "      <td>False</td>\n",
       "      <td>False</td>\n",
       "      <td>False</td>\n",
       "    </tr>\n",
       "    <tr>\n",
       "      <th>684</th>\n",
       "      <td>False</td>\n",
       "      <td>False</td>\n",
       "      <td>False</td>\n",
       "      <td>False</td>\n",
       "      <td>False</td>\n",
       "      <td>False</td>\n",
       "      <td>False</td>\n",
       "      <td>False</td>\n",
       "      <td>False</td>\n",
       "    </tr>\n",
       "    <tr>\n",
       "      <th>685</th>\n",
       "      <td>False</td>\n",
       "      <td>False</td>\n",
       "      <td>False</td>\n",
       "      <td>False</td>\n",
       "      <td>False</td>\n",
       "      <td>False</td>\n",
       "      <td>False</td>\n",
       "      <td>False</td>\n",
       "      <td>False</td>\n",
       "    </tr>\n",
       "    <tr>\n",
       "      <th>686</th>\n",
       "      <td>False</td>\n",
       "      <td>False</td>\n",
       "      <td>False</td>\n",
       "      <td>False</td>\n",
       "      <td>False</td>\n",
       "      <td>False</td>\n",
       "      <td>False</td>\n",
       "      <td>False</td>\n",
       "      <td>False</td>\n",
       "    </tr>\n",
       "  </tbody>\n",
       "</table>\n",
       "<p>687 rows × 9 columns</p>\n",
       "</div>"
      ],
      "text/plain": [
       "     Ticker     PE    P/B  ROE LF  ROIC LF  LTM Sales Growth (BLOOMBERG L.P.)  \\\n",
       "0     False  False  False   False    False                              False   \n",
       "1     False  False  False   False    False                              False   \n",
       "2     False  False  False   False    False                              False   \n",
       "3     False  False  False   False    False                              False   \n",
       "4     False  False  False   False    False                              False   \n",
       "..      ...    ...    ...     ...      ...                                ...   \n",
       "682   False  False  False   False    False                              False   \n",
       "683   False  False  False   False    False                              False   \n",
       "684   False  False  False   False    False                              False   \n",
       "685   False  False  False   False    False                              False   \n",
       "686   False  False  False   False    False                              False   \n",
       "\n",
       "     EBITDA 1Yr Growth LF  Sales 5Yr CAGR (BLOOMBERG L.P.)    1/0  \n",
       "0                   False                            False  False  \n",
       "1                   False                            False  False  \n",
       "2                   False                            False  False  \n",
       "3                   False                            False  False  \n",
       "4                   False                            False  False  \n",
       "..                    ...                              ...    ...  \n",
       "682                 False                            False  False  \n",
       "683                 False                            False  False  \n",
       "684                 False                            False  False  \n",
       "685                 False                            False  False  \n",
       "686                 False                            False  False  \n",
       "\n",
       "[687 rows x 9 columns]"
      ]
     },
     "execution_count": 10,
     "metadata": {},
     "output_type": "execute_result"
    }
   ],
   "source": [
    "df.isnull()"
   ]
  },
  {
   "cell_type": "code",
   "execution_count": 11,
   "id": "50392a7d-9915-446f-877e-996d67638d7b",
   "metadata": {},
   "outputs": [
    {
     "data": {
      "image/png": "[encoded data removed]",
      "text/plain": [
       "<Figure size 600x600 with 1 Axes>"
      ]
     },
     "metadata": {},
     "output_type": "display_data"
    }
   ],
   "source": [
    "# Count the occurrences of 1 and 0 in the '1/0' column\n",
    "counts = data['1/0'].value_counts()\n",
    "\n",
    "# Create a pie chart\n",
    "plt.figure(figsize=(6, 6))\n",
    "counts.plot.pie(\n",
    "    labels=['1', '0'], \n",
    "    autopct='%1.1f%%', \n",
    "    startangle=90, \n",
    "    colors=['#ff9999','#66b3ff'], \n",
    "    explode=(0.1, 0)  # Slightly separate the first slice\n",
    ")\n",
    "plt.title('Distribution of 1 and 0')\n",
    "plt.ylabel('')  # Hide the y-axis label for better appearance\n",
    "plt.show()"
   ]
  },
  {
   "cell_type": "code",
   "execution_count": 12,
   "id": "54ac0a29-f869-40fd-8e24-1574eeeda6a9",
   "metadata": {},
   "outputs": [],
   "source": [
    "# Define a shift constant to ensure positivity\n",
    "shift_constant = abs(df[['PE', 'P/B', 'ROE LF', 'EBITDA 1Yr Growth LF', 'Sales 5Yr CAGR (BLOOMBERG L.P.)']].min().min()) + 1\n",
    "\n",
    "# Apply the shifted log transformation\n",
    "df['log_PE'] = np.log1p(df['PE'] + shift_constant)\n",
    "df['log_P/B'] = np.log1p(df['P/B'] + shift_constant)\n",
    "df['log_ROE'] = np.log1p(df['ROE LF'] + shift_constant)\n",
    "df['log_EBITDA'] = np.log1p(df['EBITDA 1Yr Growth LF'] + shift_constant)\n",
    "df['log_Sales_CAGR'] = np.log1p(df['Sales 5Yr CAGR (BLOOMBERG L.P.)'] + shift_constant)\n"
   ]
  },
  {
   "cell_type": "code",
   "execution_count": 13,
   "id": "ce9118d2-18f5-4145-b6a5-0af383b630a2",
   "metadata": {},
   "outputs": [],
   "source": [
    "df['PE_PB_ratio'] = df['PE'] / df['P/B']  # Ratio of PE to P/B"
   ]
  },
  {
   "cell_type": "code",
   "execution_count": 14,
   "id": "5482bc87-1038-4b1f-89a2-e15a8bab4640",
   "metadata": {},
   "outputs": [
    {
     "name": "stdout",
     "output_type": "stream",
     "text": [
      "           Ticker          PE        P/B     ROE LF    ROIC LF  \\\n",
      "0  GOCA IN Equity   85.961166  10.801176  12.587328   3.007624   \n",
      "1  HSCH IN Equity   77.550506   6.846167   8.673067   8.441944   \n",
      "2   TMC IN Equity   31.371552   7.350074  27.414576  22.092188   \n",
      "3  GRIL IN Equity  200.858725   8.288601   3.865545   0.398358   \n",
      "4    WH IN Equity   31.617164   7.388241  26.261683  13.675078   \n",
      "\n",
      "   LTM Sales Growth (BLOOMBERG L.P.)  EBITDA 1Yr Growth LF  \\\n",
      "0                          -7.775877             -4.650929   \n",
      "1                          13.083882             65.137894   \n",
      "2                          10.191632             61.494133   \n",
      "3                          -4.019076            -63.102592   \n",
      "4                          21.075392            101.956512   \n",
      "\n",
      "   Sales 5Yr CAGR (BLOOMBERG L.P.)  1/0    log_PE   log_P/B   log_ROE  \\\n",
      "0                         1.672671    1  7.934898  7.907620  7.908277   \n",
      "1                        13.908138    1  7.931882  7.906164  7.906837   \n",
      "2                         6.170201    1  7.915160  7.906350  7.913714   \n",
      "3                         0.328333    1  7.975211  7.906695  7.905065   \n",
      "4                        24.471958    1  7.915250  7.906364  7.913292   \n",
      "\n",
      "   log_EBITDA  log_Sales_CAGR  PE_PB_ratio  \n",
      "0    7.901919        7.904256     7.958501  \n",
      "1    7.927415        7.908763    11.327580  \n",
      "2    7.926100        7.905915     4.268196  \n",
      "3    7.880052        7.903759    24.233127  \n",
      "4    7.940609        7.912637     4.279390  \n"
     ]
    }
   ],
   "source": [
    "print(df.head());"
   ]
  },
  {
   "cell_type": "code",
   "execution_count": 15,
   "id": "4dc87201-8142-41ce-9f9a-571e8bcbdc7b",
   "metadata": {},
   "outputs": [],
   "source": [
    "# 0/1 means company's performance in terms of finances"
   ]
  },
  {
   "cell_type": "code",
   "execution_count": 16,
   "id": "55133e7f-65a8-4f37-a0e4-968ed588ccea",
   "metadata": {},
   "outputs": [
    {
     "name": "stdout",
     "output_type": "stream",
     "text": [
      "Training data shape: (549, 4), Test data shape: (138, 4)\n"
     ]
    }
   ],
   "source": [
    "import pandas as pd\n",
    "from sklearn.model_selection import train_test_split\n",
    "\n",
    "# Assuming df is your DataFrame and it contains the mentioned columns\n",
    "\n",
    "# Selecting the features\n",
    "features = ['PE_PB_ratio', 'ROE LF', 'EBITDA 1Yr Growth LF', 'Sales 5Yr CAGR (BLOOMBERG L.P.)']\n",
    "\n",
    "X = df[features]\n",
    "y = df['1/0']  # Target variable (replace with your actual target column name)\n",
    "\n",
    "X_train, X_test, y_train, y_test = train_test_split(X, y, test_size=0.2, random_state=42)\n",
    "\n",
    "# Checking the shapes of the split datasets\n",
    "print(f\"Training data shape: {X_train.shape}, Test data shape: {X_test.shape}\")\n"
   ]
  },
  {
   "cell_type": "code",
   "execution_count": 17,
   "id": "a77d5d10-b65b-4977-b146-f9e8e5cfdcc5",
   "metadata": {},
   "outputs": [],
   "source": [
    "from sklearn.preprocessing import StandardScaler\n",
    "\n",
    "scaler = StandardScaler()\n",
    "\n",
    "# Fit the scaler on training data and transform it\n",
    "X_train = scaler.fit_transform(X_train)\n",
    "\n",
    "# Transform the test data (using the same scaler as the training data)\n",
    "X_test = scaler.transform(X_test)\n"
   ]
  },
  {
   "cell_type": "code",
   "execution_count": 18,
   "id": "ec482f0a-8c15-4196-aec8-81a89a9566aa",
   "metadata": {},
   "outputs": [],
   "source": [
    "from sklearn.impute import SimpleImputer\n",
    "\n",
    "from imblearn.over_sampling import SMOTE, BorderlineSMOTE, SVMSMOTE, KMeansSMOTE\n",
    "\n",
    "\n",
    "# Create an imputer object to fill missing values with the mean\n",
    "imputer = SimpleImputer(strategy='mean')\n",
    "\n",
    "# Apply imputer to the training features\n",
    "X_train = imputer.fit_transform(X_train)\n",
    "X_test = imputer.transform(X_test)\n",
    "\n",
    "# SMOTE to balance the dataset\n",
    "smote = SMOTE(random_state=42)\n",
    "X_res, y_res = smote.fit_resample(X_train, y_train)\n"
   ]
  },
  {
   "cell_type": "code",
   "execution_count": 21,
   "id": "e7c4cafe",
   "metadata": {},
   "outputs": [
    {
     "name": "stdout",
     "output_type": "stream",
     "text": [
      "Best SVC Hyperparameters:  {'C': 10, 'degree': 2, 'gamma': 'auto', 'kernel': 'rbf'}\n",
      "SVC (Grid Search) Performance:\n",
      "              precision    recall  f1-score   support\n",
      "\n",
      "           0       0.79      0.82      0.81        97\n",
      "           1       0.54      0.49      0.51        41\n",
      "\n",
      "    accuracy                           0.72       138\n",
      "   macro avg       0.67      0.66      0.66       138\n",
      "weighted avg       0.72      0.72      0.72       138\n",
      "\n"
     ]
    }
   ],
   "source": [
    "# Support Vector Classifier with GridSearch\n",
    "param_grid_svc = {'C': [0.01, 0.1, 1, 10] ,'kernel': ['linear', 'rbf'], 'gamma': ['scale', 'auto'],'degree': [2,3, 4 ]}\n",
    "grid_search_svc = GridSearchCV(SVC(random_state=42, probability=True), param_grid_svc, cv=5)\n",
    "grid_search_svc.fit(X_res, y_res)\n",
    "\n",
    "# Best model and evaluation\n",
    "print(\"Best SVC Hyperparameters: \", grid_search_svc.best_params_)\n",
    "y_pred_svc_grid = grid_search_svc.best_estimator_.predict(X_test)\n",
    "print(\"SVC (Grid Search) Performance:\")\n",
    "print(classification_report(y_test, y_pred_svc_grid)) "
   ]
  },
  {
   "cell_type": "code",
   "execution_count": 22,
   "id": "c05b89ff-5dfc-4351-97ff-576cb03887ab",
   "metadata": {},
   "outputs": [
    {
     "data": {
      "image/png": "[encoded data removed]",
      "text/plain": [
       "<Figure size 1200x600 with 2 Axes>"
      ]
     },
     "metadata": {},
     "output_type": "display_data"
    }
   ],
   "source": [
    "import matplotlib.pyplot as plt\n",
    "from sklearn.metrics import roc_curve, auc, precision_recall_curve, average_precision_score\n",
    "\n",
    "# Assuming you have a model and predictions\n",
    "y_prob = grid_search_svc.predict_proba(X_test)[:, 1]  # Probabilities for the positive class\n",
    "\n",
    "# ROC Curve\n",
    "fpr, tpr, _ = roc_curve(y_test, y_prob)\n",
    "roc_auc = auc(fpr, tpr)\n",
    "\n",
    "# PR Curve\n",
    "precision, recall, _ = precision_recall_curve(y_test, y_prob)\n",
    "pr_auc = average_precision_score(y_test, y_prob)\n",
    "\n",
    "# Plot ROC Curve\n",
    "plt.figure(figsize=(12, 6))\n",
    "plt.subplot(1, 2, 1)\n",
    "plt.plot(fpr, tpr, color='blue', lw=2, label=f'ROC curve (AUC = {roc_auc:.2f})')\n",
    "plt.plot([0, 1], [0, 1], color='gray', linestyle='--')\n",
    "plt.title('ROC Curve')\n",
    "plt.xlabel('False Positive Rate')\n",
    "plt.ylabel('True Positive Rate')\n",
    "plt.legend(loc='lower right')\n",
    "\n",
    "# Plot PR Curve\n",
    "plt.subplot(1, 2, 2)\n",
    "plt.plot(recall, precision, color='blue', lw=2, label=f'PR curve (AUC = {pr_auc:.2f})')\n",
    "plt.title('Precision-Recall Curve')\n",
    "plt.xlabel('Recall')\n",
    "plt.ylabel('Precision')\n",
    "plt.legend(loc='lower left')\n",
    "\n",
    "# Show both plots\n",
    "plt.tight_layout()\n",
    "plt.show()\n"
   ]
  },
  {
   "cell_type": "code",
   "execution_count": null,
   "id": "d3891182-259f-46c9-944c-43a540c50d50",
   "metadata": {},
   "outputs": [],
   "source": []
  }
 ],
 "metadata": {
  "kernelspec": {
   "display_name": "base",
   "language": "python",
   "name": "python3"
  },
  "language_info": {
   "codemirror_mode": {
    "name": "ipython",
    "version": 3
   },
   "file_extension": ".py",
   "mimetype": "text/x-python",
   "name": "python",
   "nbconvert_exporter": "python",
   "pygments_lexer": "ipython3",
   "version": "3.12.7"
  }
 },
 "nbformat": 4,
 "nbformat_minor": 5
}
